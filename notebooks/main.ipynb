{
 "cells": [
  {
   "cell_type": "code",
   "execution_count": null,
   "id": "b7e51068",
   "metadata": {},
   "outputs": [],
   "source": [
    "import sys\n",
    "sys.path.append(\"./scripts\")\n",
    "\n",
    "from FourLinkSimulation import fourlink_run\n",
    "from OneWaySimulation import oneway_run\n",
    "from ThreeLinkSimulation import threelink_run\n",
    "from OtherMetrics import *\n",
    "\n",
    "def main():\n",
    "    # simulate data\n",
    "    resultsdf_four = fourlink_run(15)\n",
    "    fig1, fig2, fig3, fig4 = queue_four(resultsdf_four)\n",
    "    fig1.savefig(f\"figures/queue_four1.png\")\n",
    "    fig2.savefig(f\"figures/queue_four2.png\")\n",
    "    fig3.savefig(f\"figures/queue_four3.png\")\n",
    "    fig4.savefig(f\"figures/queue_four4.png\")\n",
    "        \n",
    "    resultsdf_oneway = oneway_run(15)\n",
    "    fig1, fig2, fig3, fig4 = queue_four(resultsdf_oneway)\n",
    "    fig1.savefig(f\"figures/queue_oneway1.png\")\n",
    "    fig2.savefig(f\"figures/queue_oneway2.png\")\n",
    "    fig3.savefig(f\"figures/queue_oneway3.png\")\n",
    "    fig4.savefig(f\"figures/queue_oneway4.png\")\n",
    "    \n",
    "    resultsdf_three = threelink_run(15)\n",
    "    fig1, fig2, fig3, fig4 = queue_three(resultsdf_three)\n",
    "    fig1.savefig(f\"figures/queue_three1.png\")\n",
    "    fig2.savefig(f\"figures/queue_three2.png\")\n",
    "    fig3.savefig(f\"figures/queue_three3.png\")\n",
    "    fig4.savefig(f\"figures/queue_three4.png\")\n",
    "    \n",
    "    \n",
    "    rrs = [resultsdf_four,resultsdf_oneway,resultsdf_three]\n",
    "    \n",
    "    for rr in rr:\n",
    "        \n",
    "        # Do computation time\n",
    "        fig = comptime(rr)\n",
    "        fig.savefig(f\"figures/mpc_runtime_{rr}.png\")\n",
    "\n",
    "        # Do computation time\n",
    "        linkanalysis(rr) # prints result\n",
    "\n",
    "        M = BasicMetrics(rr) # metrics dataframe\n",
    "    \n",
    "        return M\n",
    "\n",
    "    print(\"All plots generated and saved.\")\n",
    "\n",
    "if __name__ == \"__main__\":\n",
    "    main()"
   ]
  }
 ],
 "metadata": {
  "kernelspec": {
   "display_name": "uxsim-env",
   "language": "python",
   "name": "uxsim-env"
  },
  "language_info": {
   "codemirror_mode": {
    "name": "ipython",
    "version": 3
   },
   "file_extension": ".py",
   "mimetype": "text/x-python",
   "name": "python",
   "nbconvert_exporter": "python",
   "pygments_lexer": "ipython3",
   "version": "3.10.17"
  }
 },
 "nbformat": 4,
 "nbformat_minor": 5
}
